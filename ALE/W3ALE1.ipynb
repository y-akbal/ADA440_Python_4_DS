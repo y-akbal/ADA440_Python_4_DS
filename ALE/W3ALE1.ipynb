{
 "cells": [
  {
   "cell_type": "markdown",
   "id": "Nc7FCif09fs6",
   "metadata": {
    "id": "Nc7FCif09fs6"
   },
   "source": [
    "[![Open in Colab](https://colab.research.google.com/assets/colab-badge.svg)](https://colab.research.google.com/github/y-akbal/ADA440_Python_4_DS/blob/main/ALE/W3ALE1.ipynb)"
   ]
  },
  {
   "cell_type": "code",
   "execution_count": null,
   "id": "9db6eca9",
   "metadata": {
    "id": "9db6eca9"
   },
   "outputs": [],
   "source": [
    "#### Some necessary libraries to be imported, \n",
    "import requests\n",
    "import os\n",
    "import math\n",
    "import typing"
   ]
  },
  {
   "cell_type": "markdown",
   "id": "256c1387",
   "metadata": {
    "id": "256c1387"
   },
   "source": [
    "## There are three seperate exercises the first one is just for fun while the latter are bit serious\n",
    "\n",
    "#First exercise:"
   ]
  },
  {
   "cell_type": "code",
   "execution_count": null,
   "id": "7101f49b",
   "metadata": {
    "id": "7101f49b"
   },
   "outputs": [],
   "source": [
    "#### ---- Exercise 1 ---- #####\n",
    "#### Before we got started please Google : Erdös Multiplication Table Problem\n",
    "#### The question is How many unique numbers are there in an n x n multiplication table?\n",
    "#### Call such number M(n), implement following function returning the number of unique integers in an n x n multiplication table"
   ]
  },
  {
   "cell_type": "code",
   "execution_count": null,
   "id": "45d593b4",
   "metadata": {
    "id": "45d593b4"
   },
   "outputs": [],
   "source": [
    "def M(n:int) -> int:\n",
    "    # Your code here!\n",
    "    return None"
   ]
  },
  {
   "cell_type": "code",
   "execution_count": null,
   "id": "2f6f4892",
   "metadata": {
    "id": "2f6f4892"
   },
   "outputs": [],
   "source": [
    "### Run this cell to see if you coded the right function, please mind the error messages.\n",
    "### Graded Cell A12 - Do not change anything below, as this will cause compiler to crash\n",
    "assert isinstance(M(3), int), \"Your function should return an integer!!!\"\n",
    "assert M(4) == 9 and M(5) == 14, \"Check your implementation mate, I am asking you to return the unique ones!!!\"\n",
    "print(\"You got it mate, you got it, all tests passed successfulllly!!! Grab a cup of coffee!!!\")"
   ]
  },
  {
   "cell_type": "markdown",
   "id": "c3b177d9",
   "metadata": {},
   "source": [
    "# Primitive Gauss Circle Problem:\n",
    "# Given $r > 0$, you will write a function that gives all $(x,y) \\in \\mathbb{Z}^2$ and $x^2 + y^2 \\le r^2$ such that $x,y$ have no common divisors  (Use math.gcd function)."
   ]
  },
  {
   "cell_type": "code",
   "execution_count": null,
   "id": "dd83f020",
   "metadata": {},
   "outputs": [],
   "source": [
    "def primitive_circle(r:int)->int:\n",
    "    ## Your code here\n",
    "    return None"
   ]
  },
  {
   "cell_type": "code",
   "execution_count": null,
   "id": "4cb18a3f",
   "metadata": {},
   "outputs": [],
   "source": [
    "## Before giving it a try: draw a circle of radius and mark the primitive points, their number is???"
   ]
  },
  {
   "cell_type": "code",
   "execution_count": null,
   "id": "ecca5d0b",
   "metadata": {},
   "outputs": [],
   "source": [
    "### Run this cell to see if you coded the right function, please mind the error messages.\n",
    "### Graded Cell A12.5 - Do not change anything below, as this will cause compiler to crash\n",
    "assert isinstance(primitive_circle(3), int), \"Your function should return an integer!!!\"\n",
    "assert primitive_circle(1) == 4 and primitive_circle(2) == 8 and primitive_circle(5) == 48, \"Check your implementation mate, coprime ones please!!!, and remember to include negativees dudes as weell!!!!\"\n",
    "print(\"You got it mate, you got it, all tests passed successfulllly!!! We goodd????\")"
   ]
  },
  {
   "cell_type": "markdown",
   "id": "T0yqCxjd9tSk",
   "metadata": {
    "id": "T0yqCxjd9tSk"
   },
   "source": [
    "# Time for third exercise -"
   ]
  },
  {
   "cell_type": "code",
   "execution_count": null,
   "id": "d91feb32",
   "metadata": {
    "id": "d91feb32"
   },
   "outputs": [],
   "source": [
    "#### ---- Exercise 2 ---- #####\n",
    "#### Some NLP stuff we will be doing now, the following function will dowload all work of Shakespeare.\n",
    "### Run the following function, do not change any line of it.\n",
    "def download_text():\n",
    "    data_url = 'https://raw.githubusercontent.com/karpathy/char-rnn/master/data/tinyshakespeare/input.txt'\n",
    "    a = requests.get(data_url)\n",
    "    return a.text\n",
    "try:\n",
    "    text = download_text()\n",
    "    print(\"Text downloaded succesfully!!\")\n",
    "except Exception as a:\n",
    "    print(a)    "
   ]
  },
  {
   "cell_type": "code",
   "execution_count": null,
   "id": "3a7b6ccb",
   "metadata": {
    "id": "3a7b6ccb"
   },
   "outputs": [],
   "source": [
    "### Here is an example from this text: (Run this cell!)\n",
    "print(text[:1000])"
   ]
  },
  {
   "cell_type": "code",
   "execution_count": null,
   "id": "43666bcb",
   "metadata": {
    "id": "43666bcb"
   },
   "outputs": [],
   "source": [
    "#### First Sub-Exercise:\n",
    "### Implement the following function returning the list of unique characters in this text.\n",
    "def unique_chars(text:str) -> list[str]:\n",
    "    ###Your code here\n",
    "    return None"
   ]
  },
  {
   "cell_type": "code",
   "execution_count": null,
   "id": "7QbfpQQL-y9t",
   "metadata": {
    "id": "7QbfpQQL-y9t"
   },
   "outputs": [],
   "source": [
    "### Let's see what you do:\n",
    "unique_chars(text)  "
   ]
  },
  {
   "cell_type": "code",
   "execution_count": null,
   "id": "dbc65d13",
   "metadata": {
    "id": "dbc65d13"
   },
   "outputs": [],
   "source": [
    "### Run this cell to see if you coded the right function, please mind the error messages.\n",
    "### Graded Cell A12 - Do not change anything below, as this will cause compiler to crash\n",
    "assert isinstance(unique_chars(text), list), \"Your function should return a list\"\n",
    "assert len(unique_chars(text))== 65 and 't' in unique_chars(text), \"Check your implementation mate!!!\"\n",
    "print(\"Go ahead homiee, do not stop!!! All tests passed successfully!!!!\")"
   ]
  },
  {
   "cell_type": "code",
   "execution_count": null,
   "id": "f162a9bc",
   "metadata": {
    "id": "f162a9bc"
   },
   "outputs": [],
   "source": [
    "## Before jumping to next sub-exercise, please Google the terms \"escape characters\" and \"white space\".\n",
    "## Tokenization of a text is a real serious stuff, here we will do very simple version of it, for instance: \n",
    "string = \"I think therefore, I am\"\n",
    "string.split()  ### this guy splits (tokenizes) this string at white spaces."
   ]
  },
  {
   "cell_type": "code",
   "execution_count": null,
   "id": "ae963b3e",
   "metadata": {
    "id": "ae963b3e"
   },
   "outputs": [],
   "source": [
    "## You can lower the alphabetic chars in a string as follows:\n",
    "string = \"I Think Therefore, I AM!!\"\n",
    "string.lower()  ### lowered."
   ]
  },
  {
   "cell_type": "code",
   "execution_count": null,
   "id": "b4b21131",
   "metadata": {
    "id": "b4b21131"
   },
   "outputs": [],
   "source": [
    "#### Second Sub-Exercise:\n",
    "### Implement the following function returning (as a tuple)\n",
    "### a tuple: a list of lower cased unique tokens, a list of lower cased tokens.\n",
    "### In doing so please use, .split() function, and .lower() function.\n",
    "def lower_cased_tokens(text:str) -> tuple[str, str]:\n",
    "    ## Your code\n",
    "    return None"
   ]
  },
  {
   "cell_type": "code",
   "execution_count": null,
   "id": "b289cc57",
   "metadata": {
    "id": "b289cc57"
   },
   "outputs": [],
   "source": [
    "### Run this cell to see if you coded the right function in the right way, please mind the error messages.\n",
    "### There are some helper functions, do not spend time attempting to understand their behaviour.\n",
    "### Graded Cell A13 - Do not change anything below, as this will cause compiler to crash!!!!!\n",
    "### Begining of helper functions -- No need to read the functions below ---- ###\n",
    "def check(s:str) -> bool:\n",
    "    l = True\n",
    "    for char in s:\n",
    "        if char.isalpha():\n",
    "            if not char.islower():\n",
    "                l = False\n",
    "                break\n",
    "        else:\n",
    "            continue ## do nothing\n",
    "    return l\n",
    "def check_(text:list)-> bool:\n",
    "    l = True\n",
    "    ### This dude is an iterator!!!!\n",
    "    for str_ in text:\n",
    "        if not check(str_):\n",
    "            l = False\n",
    "            break\n",
    "        ### for visualizalization purposes\n",
    "        \n",
    "    return l\n",
    "###  End of helper functions ####\n",
    "victim = lower_cased_tokens(text)\n",
    "checked_ = check_(victim[0])\n",
    "### Some unit tests ### \n",
    "assert isinstance(victim, tuple), f\"Lower cased unique tokens function should return a tuple, while yours is returning {type(victim)}\"\n",
    "assert len(victim[0]) == 23641, f\"Are you sure that your function is returning the unique tokens there should be 23641 many of them while yours is {len(victim[0])}\"\n",
    "assert checked_, \"Something went wrong pal! Check with letters not all letters are lowered\"\n",
    "print(\"All tests passed successfully!!!! You are done with this assignment that serves not purpose at all!!!\")"
   ]
  },
  {
   "cell_type": "code",
   "execution_count": null,
   "id": "703909aa",
   "metadata": {
    "id": "703909aa"
   },
   "outputs": [],
   "source": [
    "### Below you will implement a function that returns lower cased token frequencies in a dictionary, \n",
    "### feel free to code as you like,\n",
    "def token_freq(text:str)->dict:\n",
    "    ## your code here!!!\n",
    "    return None"
   ]
  },
  {
   "cell_type": "code",
   "execution_count": null,
   "id": "liq5q4nPACM3",
   "metadata": {
    "id": "liq5q4nPACM3"
   },
   "outputs": [],
   "source": [
    "### Now see what you have done.\n",
    "print(token_freq(text))"
   ]
  },
  {
   "cell_type": "code",
   "execution_count": null,
   "id": "b4e48b9f",
   "metadata": {
    "id": "b4e48b9f"
   },
   "outputs": [],
   "source": [
    "### Graded Cell A14 - Do not change anything below, as this will cause compiler to crash!!!!!\n",
    "### Run this cell to see if you coded the right function in the right way, please mind the error messages.\n",
    "### There are some helper functions, do not spend time attempting to understand their behaviour.\n",
    "### Begining of helper functions -- No need to read the functions below ---- ###\n",
    "V = token_freq(text)\n",
    "assert isinstance(V, dict), \"This function should return a dictionary\"\n",
    "assert sum(V.values()) == len(lower_cased_tokens(text)[1]) and len(token_freq(text)) == 23641, \"You sure about you really count tokens?\"\n",
    "print(\"All tests passed successfully!!!! How do you feel now?\")"
   ]
  },
  {
   "cell_type": "code",
   "execution_count": null,
   "id": "6aaa81b5",
   "metadata": {
    "id": "6aaa81b5"
   },
   "outputs": [],
   "source": [
    "### Below you will implement a function that returns most repeated lower cased top_k tokens.\n",
    "### This dude is going to be a bit tough.\n",
    "### No tests for this function, feel free to code as you like.\n",
    "### No grade will be given, because it is a challanging stuff.\n",
    "### It should return a dictionary with keys:the number of repetations, and values: a list of corresponding tokens.\n",
    "def most_repeated_tokens(text:str, top_k:int = 20)->dict:\n",
    "    #Your code here\n",
    "    return None"
   ]
  },
  {
   "cell_type": "code",
   "execution_count": null,
   "id": "c-ILQt5fIeIA",
   "metadata": {
    "colab": {
     "base_uri": "https://localhost:8080/"
    },
    "id": "c-ILQt5fIeIA",
    "outputId": "07445ad7-2055-452a-be05-59311b79bbb6"
   },
   "outputs": [],
   "source": [
    "### UNGraded Cell A15 - Do not change anything below, as this will cause compiler to crash!!!!!\n",
    "### Run this cell to see if you coded the right function in the right way, please mind the error messages.\n",
    "### There are some helper functions, do not spend time attempting to understand their behaviour.\n",
    "### Begining of helper functions -- No need to read the functions below ---- ###\n",
    "V = most_repeated_tokens(text, 20)\n",
    "assert isinstance(V, dict), \"This function should return a dictionary\"\n",
    "assert V[6279][0] == 'the' and V[1680][0] == \"your\"\n",
    "print(\"You have come a long way. The final one was hard nut to crack, enjoy the music https://www.youtube.com/watch?v=Gzz7at1p4rs\")"
   ]
  }
 ],
 "metadata": {
  "colab": {
   "provenance": []
  },
  "kernelspec": {
   "display_name": "Python 3 (ipykernel)",
   "language": "python",
   "name": "python3"
  },
  "language_info": {
   "codemirror_mode": {
    "name": "ipython",
    "version": 3
   },
   "file_extension": ".py",
   "mimetype": "text/x-python",
   "name": "python",
   "nbconvert_exporter": "python",
   "pygments_lexer": "ipython3",
   "version": "3.11.5"
  }
 },
 "nbformat": 4,
 "nbformat_minor": 5
}
