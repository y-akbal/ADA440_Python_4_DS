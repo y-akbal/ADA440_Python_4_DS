{
 "cells": [
  {
   "cell_type": "markdown",
   "id": "8837bac6",
   "metadata": {},
   "source": [
    "## We will talk about exception handling!!!!"
   ]
  },
  {
   "cell_type": "code",
   "execution_count": 6,
   "id": "2657c5c0",
   "metadata": {},
   "outputs": [
    {
     "ename": "AssertionError",
     "evalue": "",
     "output_type": "error",
     "traceback": [
      "\u001b[1;31m---------------------------------------------------------------------------\u001b[0m",
      "\u001b[1;31mAssertionError\u001b[0m                            Traceback (most recent call last)",
      "Input \u001b[1;32mIn [6]\u001b[0m, in \u001b[0;36m<cell line: 2>\u001b[1;34m()\u001b[0m\n\u001b[0;32m      1\u001b[0m x \u001b[38;5;241m=\u001b[39m \u001b[38;5;241m1\u001b[39m\n\u001b[1;32m----> 2\u001b[0m \u001b[38;5;28;01massert\u001b[39;00m x \u001b[38;5;241m==\u001b[39m \u001b[38;5;241m2\u001b[39m\n",
      "\u001b[1;31mAssertionError\u001b[0m: "
     ]
    }
   ],
   "source": [
    "x = 1\n",
    "assert x == 2 \n",
    "### This guy will throw and assertion error."
   ]
  },
  {
   "cell_type": "code",
   "execution_count": 3,
   "id": "4961541e",
   "metadata": {},
   "outputs": [],
   "source": [
    "L = [1,2,3,4,5]"
   ]
  },
  {
   "cell_type": "code",
   "execution_count": 4,
   "id": "c50a3dc0",
   "metadata": {},
   "outputs": [
    {
     "ename": "IndexError",
     "evalue": "list index out of range",
     "output_type": "error",
     "traceback": [
      "\u001b[1;31m---------------------------------------------------------------------------\u001b[0m",
      "\u001b[1;31mIndexError\u001b[0m                                Traceback (most recent call last)",
      "Input \u001b[1;32mIn [4]\u001b[0m, in \u001b[0;36m<cell line: 1>\u001b[1;34m()\u001b[0m\n\u001b[1;32m----> 1\u001b[0m \u001b[43mL\u001b[49m\u001b[43m[\u001b[49m\u001b[38;5;241;43m5\u001b[39;49m\u001b[43m]\u001b[49m\n",
      "\u001b[1;31mIndexError\u001b[0m: list index out of range"
     ]
    }
   ],
   "source": [
    "L[5] #### IndexError"
   ]
  },
  {
   "cell_type": "code",
   "execution_count": 7,
   "id": "eddcc69d",
   "metadata": {},
   "outputs": [],
   "source": [
    "y = 1 \n",
    "x = 0"
   ]
  },
  {
   "cell_type": "code",
   "execution_count": 8,
   "id": "280d0bce",
   "metadata": {},
   "outputs": [
    {
     "ename": "ZeroDivisionError",
     "evalue": "division by zero",
     "output_type": "error",
     "traceback": [
      "\u001b[1;31m---------------------------------------------------------------------------\u001b[0m",
      "\u001b[1;31mZeroDivisionError\u001b[0m                         Traceback (most recent call last)",
      "Input \u001b[1;32mIn [8]\u001b[0m, in \u001b[0;36m<cell line: 1>\u001b[1;34m()\u001b[0m\n\u001b[1;32m----> 1\u001b[0m \u001b[43my\u001b[49m\u001b[38;5;241;43m/\u001b[39;49m\u001b[43mx\u001b[49m\n",
      "\u001b[1;31mZeroDivisionError\u001b[0m: division by zero"
     ]
    }
   ],
   "source": [
    "y/x"
   ]
  },
  {
   "cell_type": "code",
   "execution_count": 9,
   "id": "5f4bb601",
   "metadata": {},
   "outputs": [],
   "source": [
    "###Error handling is done by means of try and except blocks.\n"
   ]
  },
  {
   "cell_type": "code",
   "execution_count": 13,
   "id": "646833b5",
   "metadata": {},
   "outputs": [
    {
     "ename": "ZeroDivisionError",
     "evalue": "division by zero",
     "output_type": "error",
     "traceback": [
      "\u001b[1;31m---------------------------------------------------------------------------\u001b[0m",
      "\u001b[1;31mZeroDivisionError\u001b[0m                         Traceback (most recent call last)",
      "Input \u001b[1;32mIn [13]\u001b[0m, in \u001b[0;36m<cell line: 3>\u001b[1;34m()\u001b[0m\n\u001b[0;32m      2\u001b[0m y \u001b[38;5;241m=\u001b[39m \u001b[38;5;241m0\u001b[39m\n\u001b[0;32m      3\u001b[0m \u001b[38;5;28;01mtry\u001b[39;00m:\n\u001b[1;32m----> 4\u001b[0m     \u001b[43mx\u001b[49m\u001b[38;5;241;43m/\u001b[39;49m\u001b[43my\u001b[49m  \u001b[38;5;66;03m## accidentally pick y in the denominator,\u001b[39;00m\n\u001b[0;32m      5\u001b[0m \u001b[38;5;28;01mexcept\u001b[39;00m \u001b[38;5;167;01mAssertionError\u001b[39;00m:\n\u001b[0;32m      6\u001b[0m     \u001b[38;5;28mprint\u001b[39m(\u001b[38;5;124m\"\u001b[39m\u001b[38;5;124mHoop zero can not be in the denominator\u001b[39m\u001b[38;5;124m\"\u001b[39m)\n",
      "\u001b[1;31mZeroDivisionError\u001b[0m: division by zero"
     ]
    }
   ],
   "source": [
    "x = 5\n",
    "y = 0\n",
    "try:\n",
    "    x/y  ## accidentally pick y in the denominator,\n",
    "except Exception: ### in the the case that this error is thrown\n",
    "    ###Do whatever you like here!!!!\n",
    "    print(\"Hoop zero can not be in the denominator\")\n",
    "    "
   ]
  },
  {
   "cell_type": "code",
   "execution_count": 16,
   "id": "c4a2636f",
   "metadata": {},
   "outputs": [
    {
     "name": "stdout",
     "output_type": "stream",
     "text": [
      "Hoop zero can not be in the denominator\n",
      "I am the finall boss, no matter what happens I will always be here!!!!!\n"
     ]
    }
   ],
   "source": [
    "x = 5\n",
    "y = 0\n",
    "try:\n",
    "    x/y  ## accidentally pick y in the denominator,\n",
    "except ZeroDivisionError: ### in the the case that this error is thrown\n",
    "    ###Do whatever you like here!!!!\n",
    "    print(\"Hoop zero can not be in the denominator\")\n",
    "except OSError:\n",
    "    print(\"Do this!!!! \")\n",
    "finally:\n",
    "    print(\"I am the finall boss, no matter what happens I will always be here!!!!!\")"
   ]
  },
  {
   "cell_type": "code",
   "execution_count": 19,
   "id": "d83a71fb",
   "metadata": {},
   "outputs": [
    {
     "name": "stdout",
     "output_type": "stream",
     "text": [
      "There is an error!!! and the error is list assignment index out of range\n"
     ]
    }
   ],
   "source": [
    "L = [0,1]\n",
    "try:\n",
    "    L[3] = 2\n",
    "except Exception as E:  #### as E allows you to pick the type of the error!!!!!\n",
    "    print(f\"There is an error!!! and the error is {E}\")"
   ]
  },
  {
   "cell_type": "code",
   "execution_count": 20,
   "id": "1e854dff",
   "metadata": {},
   "outputs": [],
   "source": [
    "###A toy example:\n",
    "import numpy as np"
   ]
  },
  {
   "cell_type": "code",
   "execution_count": 23,
   "id": "5ee3ea39",
   "metadata": {},
   "outputs": [
    {
     "data": {
      "text/plain": [
       "1000"
      ]
     },
     "execution_count": 23,
     "metadata": {},
     "output_type": "execute_result"
    }
   ],
   "source": [
    "A = list(np.random.randn(1000))\n",
    "### For the time being lets assume that we do not the size of thist list\n",
    "### How do we find out the length of this list by means of try except blocks?\n",
    "len(A)"
   ]
  },
  {
   "cell_type": "code",
   "execution_count": 24,
   "id": "07f94efc",
   "metadata": {},
   "outputs": [
    {
     "ename": "IndexError",
     "evalue": "list index out of range",
     "output_type": "error",
     "traceback": [
      "\u001b[1;31m---------------------------------------------------------------------------\u001b[0m",
      "\u001b[1;31mIndexError\u001b[0m                                Traceback (most recent call last)",
      "Input \u001b[1;32mIn [24]\u001b[0m, in \u001b[0;36m<cell line: 1>\u001b[1;34m()\u001b[0m\n\u001b[1;32m----> 1\u001b[0m \u001b[43mA\u001b[49m\u001b[43m[\u001b[49m\u001b[38;5;241;43m1000\u001b[39;49m\u001b[43m]\u001b[49m\n",
      "\u001b[1;31mIndexError\u001b[0m: list index out of range"
     ]
    }
   ],
   "source": [
    "A[1000]"
   ]
  },
  {
   "cell_type": "code",
   "execution_count": 27,
   "id": "858dd1ae",
   "metadata": {},
   "outputs": [],
   "source": [
    "def len_(A:list)->int:\n",
    "    i = 0\n",
    "    while True:\n",
    "        try:\n",
    "            A[i]  ### trying to reach ith element\n",
    "            i += 1\n",
    "        except Exception: ### in the case that it throws an error, we stop and break the while loop!!!!\n",
    "            break\n",
    "    return i"
   ]
  },
  {
   "cell_type": "code",
   "execution_count": 28,
   "id": "49ba8919",
   "metadata": {},
   "outputs": [
    {
     "data": {
      "text/plain": [
       "1000"
      ]
     },
     "execution_count": 28,
     "metadata": {},
     "output_type": "execute_result"
    }
   ],
   "source": [
    "len_(A)"
   ]
  },
  {
   "cell_type": "markdown",
   "id": "8965e690",
   "metadata": {},
   "source": [
    "### Let's read some files and write some files!!!!"
   ]
  },
  {
   "cell_type": "code",
   "execution_count": 29,
   "id": "1f61a1c9",
   "metadata": {},
   "outputs": [],
   "source": [
    "###Task given a string, open a txt file, and write this string to the txt file and save it.\n",
    "name_of_file = \"file.txt\"\n",
    "with open(name_of_file, \"a\") as file:\n",
    "    file.write(\"Hello hardware, whatssaapppp???\")"
   ]
  },
  {
   "cell_type": "code",
   "execution_count": 30,
   "id": "86de733a",
   "metadata": {},
   "outputs": [],
   "source": [
    "name_of_file = \"file.txt\"\n",
    "with open(name_of_file, \"a\", ) as file:\n",
    "    file.write(\"I am good how are you?\")"
   ]
  },
  {
   "cell_type": "code",
   "execution_count": 57,
   "id": "585edff3",
   "metadata": {},
   "outputs": [],
   "source": [
    "name_of_file = \"shakespeare.txt\"\n",
    "with open(name_of_file, \"r\") as file:\n",
    "    inside = file.read()"
   ]
  },
  {
   "cell_type": "code",
   "execution_count": null,
   "id": "2d5a8d4c",
   "metadata": {},
   "outputs": [],
   "source": []
  }
 ],
 "metadata": {
  "kernelspec": {
   "display_name": "Python 3 (ipykernel)",
   "language": "python",
   "name": "python3"
  },
  "language_info": {
   "codemirror_mode": {
    "name": "ipython",
    "version": 3
   },
   "file_extension": ".py",
   "mimetype": "text/x-python",
   "name": "python",
   "nbconvert_exporter": "python",
   "pygments_lexer": "ipython3",
   "version": "3.9.12"
  }
 },
 "nbformat": 4,
 "nbformat_minor": 5
}
