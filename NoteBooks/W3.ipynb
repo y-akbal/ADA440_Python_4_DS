{
  "cells": [
    {
      "cell_type": "markdown",
      "metadata": {
        "id": "43ErvjC2wMzs"
      },
      "source": [
        "[![Open in Colab](https://colab.research.google.com/assets/colab-badge.svg)](https://colab.research.google.com/github/y-akbal/Tedu_Python_for_DS/blob/main/1/W3.ipynb)\n"
      ]
    },
    {
      "cell_type": "code",
      "execution_count": 1,
      "metadata": {
        "id": "nQoeX71JwL-R"
      },
      "outputs": [],
      "source": [
        "def function(x:int) -> list:  ### good practice to hint your types\n",
        "  ## Do something here\n",
        "  return None"
      ]
    },
    {
      "cell_type": "code",
      "execution_count": 4,
      "metadata": {
        "id": "sK4Nvc6EyEXK"
      },
      "outputs": [],
      "source": [
        "f = lambda x: x**2  ###f(x) = x**2"
      ]
    },
    {
      "cell_type": "code",
      "execution_count": 6,
      "metadata": {
        "id": "J7gVKPlJyaNB"
      },
      "outputs": [],
      "source": [
        "def g(x) ->function:  ### function returning another function\n",
        "  def f(t):  #### decorates the function inside (inner function)\n",
        "    return t**2 + x\n",
        "  return f"
      ]
    },
    {
      "cell_type": "markdown",
      "metadata": {
        "id": "qYTAncCjyUCN"
      },
      "source": [
        "### Last time I promised to talk about decorator functions."
      ]
    },
    {
      "cell_type": "code",
      "execution_count": 49,
      "metadata": {
        "id": "rB1x38oPyMg1"
      },
      "outputs": [],
      "source": [
        "import time\n",
        "from time import time"
      ]
    },
    {
      "cell_type": "code",
      "execution_count": 50,
      "metadata": {
        "id": "bA6urzPSzCmI"
      },
      "outputs": [],
      "source": [
        "def time_(g):\n",
        "  def wrapper(x):\n",
        "    a = time()\n",
        "    l = g(x)\n",
        "    b = time()\n",
        "    print(f\"This function does its job in {b-a} secs\")\n",
        "    return l\n",
        "  return wrapper"
      ]
    },
    {
      "cell_type": "code",
      "execution_count": 51,
      "metadata": {
        "id": "wiqJ-5Q8zPAo"
      },
      "outputs": [],
      "source": [
        "@time_\n",
        "def g(x):\n",
        "  return x**2"
      ]
    },
    {
      "cell_type": "code",
      "execution_count": 53,
      "metadata": {
        "colab": {
          "base_uri": "https://localhost:8080/"
        },
        "id": "LCDVX6fyzRYu",
        "outputId": "37d13b55-5af4-4aee-a12f-bf437771dec5"
      },
      "outputs": [
        {
          "name": "stdout",
          "output_type": "stream",
          "text": [
            "This function does its job in 2.6226043701171875e-06 secs\n"
          ]
        }
      ],
      "source": [
        "x = g(10)"
      ]
    },
    {
      "cell_type": "code",
      "execution_count": 54,
      "metadata": {
        "colab": {
          "base_uri": "https://localhost:8080/"
        },
        "id": "6gJmcVe50TEo",
        "outputId": "2ec7fda8-4abb-415e-9289-7a9dfce83122"
      },
      "outputs": [
        {
          "data": {
            "text/plain": [
              "100"
            ]
          },
          "execution_count": 54,
          "metadata": {},
          "output_type": "execute_result"
        }
      ],
      "source": [
        "x"
      ]
    },
    {
      "cell_type": "markdown",
      "metadata": {
        "id": "dKZVmApi0aSc"
      },
      "source": [
        "#The decorator functions are a bit hard to deal with, but once you get used to them they are easy peasyy."
      ]
    },
    {
      "cell_type": "markdown",
      "metadata": {
        "id": "HVZn2YNf0k-_"
      },
      "source": [
        "## Let's get back to our ordinary world!!!  Let's talk about if statements...."
      ]
    },
    {
      "cell_type": "code",
      "execution_count": null,
      "metadata": {
        "id": "-7J99b820wMs"
      },
      "outputs": [],
      "source": [
        "# if somethings is true:\n",
        "#   do something\n",
        "# else:\n",
        "# in the rest of of time\n",
        "###Or maybe"
      ]
    },
    {
      "cell_type": "code",
      "execution_count": null,
      "metadata": {
        "id": "YYcjpYTl0nnv"
      },
      "outputs": [],
      "source": [
        "# if somethings is true:\n",
        "#   do something\n",
        "# elif another thing is true:\n",
        "#    do something\n",
        "# elif yet another thing is true:\n",
        "#    do something\n",
        "# else:\n",
        "#    do a final thing\n",
        "# in the rest of of time"
      ]
    },
    {
      "cell_type": "code",
      "execution_count": 55,
      "metadata": {
        "id": "EeoXbOWs0hJU"
      },
      "outputs": [],
      "source": [
        "N = 10 ### convention that global variables are used with uppercase latter"
      ]
    },
    {
      "cell_type": "code",
      "execution_count": 61,
      "metadata": {
        "colab": {
          "base_uri": "https://localhost:8080/"
        },
        "id": "NmOM4TDy1e-V",
        "outputId": "a4688fc2-cac3-4d80-d7bb-485ee5c310d8"
      },
      "outputs": [
        {
          "name": "stdout",
          "output_type": "stream",
          "text": [
            "This dude is an odd number!!!\n"
          ]
        }
      ],
      "source": [
        "N = 1\n",
        "if N % 2 == 0:\n",
        "  print(\"This due is an even number!!!\")\n",
        "else:\n",
        "  print(\"This dude is an odd number!!!\")"
      ]
    },
    {
      "cell_type": "code",
      "execution_count": 62,
      "metadata": {
        "colab": {
          "base_uri": "https://localhost:8080/"
        },
        "id": "FO1YiM-I1vpo",
        "outputId": "b7e1b3a3-4ae6-4b90-fe3e-a91fb28357d7"
      },
      "outputs": [
        {
          "name": "stdout",
          "output_type": "stream",
          "text": [
            "Hello dear\n"
          ]
        }
      ],
      "source": [
        "if True:\n",
        "  print(\"Hello dear!!!\")"
      ]
    },
    {
      "cell_type": "code",
      "execution_count": 63,
      "metadata": {
        "colab": {
          "base_uri": "https://localhost:8080/"
        },
        "id": "49DO4d_W161R",
        "outputId": "ebe20478-ac57-42ba-fc28-ecaede5df8dc"
      },
      "outputs": [
        {
          "name": "stdout",
          "output_type": "stream",
          "text": [
            "Yeaap\n"
          ]
        }
      ],
      "source": [
        "if 1:\n",
        "  print(\"Yeaap\")"
      ]
    },
    {
      "cell_type": "code",
      "execution_count": 66,
      "metadata": {
        "colab": {
          "base_uri": "https://localhost:8080/"
        },
        "id": "hMb_xzT91-Kl",
        "outputId": "7f0fab7c-5a8d-48b9-fdf5-e39564f31039"
      },
      "outputs": [
        {
          "name": "stdout",
          "output_type": "stream",
          "text": [
            "Yeaap\n"
          ]
        }
      ],
      "source": [
        "if 2: #### number other than 0 will be treated as True, but 0 will be treated as False\n",
        "  print(\"Yeaap\")"
      ]
    },
    {
      "cell_type": "code",
      "execution_count": 68,
      "metadata": {
        "colab": {
          "base_uri": "https://localhost:8080/"
        },
        "id": "t5fi1lwc2ITC",
        "outputId": "c19492c7-4100-4e70-e75d-49467c3174fd"
      },
      "outputs": [
        {
          "name": "stdout",
          "output_type": "stream",
          "text": [
            "Hoppa\n"
          ]
        }
      ],
      "source": [
        "if None: ###3 None is treated as False.\n",
        "  print(\"Yeah\")\n",
        "else:\n",
        "  print(\"Hoppa\")"
      ]
    },
    {
      "cell_type": "markdown",
      "metadata": {
        "id": "k_vHvGbs2x2R"
      },
      "source": [
        "## Logical statements"
      ]
    },
    {
      "cell_type": "code",
      "execution_count": 74,
      "metadata": {
        "id": "iTR-yyoL2-jE"
      },
      "outputs": [],
      "source": [
        "x,y,z = True, True, False"
      ]
    },
    {
      "cell_type": "code",
      "execution_count": 76,
      "metadata": {
        "colab": {
          "base_uri": "https://localhost:8080/"
        },
        "id": "INpKLkha2pJH",
        "outputId": "1a88cccc-c041-46ca-b2d4-53391ca5e6e1"
      },
      "outputs": [
        {
          "name": "stdout",
          "output_type": "stream",
          "text": [
            "Both x and y true\n"
          ]
        }
      ],
      "source": [
        "if x and y:\n",
        "  print(\"Both x and y true\")\n",
        "  "
      ]
    },
    {
      "cell_type": "code",
      "execution_count": 77,
      "metadata": {
        "colab": {
          "base_uri": "https://localhost:8080/"
        },
        "id": "CPdgVZw83Zqn",
        "outputId": "269fe4ff-f6cc-4656-8cee-265fddd32da1"
      },
      "outputs": [
        {
          "name": "stdout",
          "output_type": "stream",
          "text": [
            "Or at least one of the statements false\n"
          ]
        }
      ],
      "source": [
        "if x and z:\n",
        "  print(\"Ya sure about it?\")\n",
        "else:\n",
        "  print(\"Or at least one of the statements false\")"
      ]
    },
    {
      "cell_type": "code",
      "execution_count": 79,
      "metadata": {
        "colab": {
          "base_uri": "https://localhost:8080/"
        },
        "id": "v8LqAxzT3p-M",
        "outputId": "0aec6183-79ab-4a0b-86d3-e3dac801a031"
      },
      "outputs": [
        {
          "name": "stdout",
          "output_type": "stream",
          "text": [
            "What is your guess??? I believe it is True\n"
          ]
        }
      ],
      "source": [
        "if x or z:\n",
        "  print(\"What is your guess??? I believe it is True\")\n",
        "else:\n",
        "  print(\"Will it give false or true???\")"
      ]
    },
    {
      "cell_type": "code",
      "execution_count": 81,
      "metadata": {
        "colab": {
          "base_uri": "https://localhost:8080/"
        },
        "id": "XfrkU4ja39uA",
        "outputId": "f4dde8a1-99d6-4870-aa54-a6c42e160f0c"
      },
      "outputs": [
        {
          "name": "stdout",
          "output_type": "stream",
          "text": [
            "True -> False\n"
          ]
        }
      ],
      "source": [
        "if not x:\n",
        "  print(\"True -> True\")\n",
        "else:\n",
        "  print(\"True -> False\")"
      ]
    },
    {
      "cell_type": "code",
      "execution_count": 82,
      "metadata": {
        "colab": {
          "base_uri": "https://localhost:8080/"
        },
        "id": "j5LlyUJE4iGN",
        "outputId": "2a2bcb52-503c-4982-9bec-f946e6bc57b7"
      },
      "outputs": [
        {
          "data": {
            "text/plain": [
              "True"
            ]
          },
          "execution_count": 82,
          "metadata": {},
          "output_type": "execute_result"
        }
      ],
      "source": [
        "x"
      ]
    },
    {
      "cell_type": "markdown",
      "metadata": {
        "id": "Gnz_qh5Y45po"
      },
      "source": [
        "##Let's talk about the notion of loops (iterators)\n",
        "\n",
        "## Problem: Assume that you are given a list of integers,\n",
        "## you want to find the even integers in this list what do you need? \n",
        "# $X = [1,2,3,4,5,-1, 10, 100, 2]$\n"
      ]
    },
    {
      "cell_type": "code",
      "execution_count": 85,
      "metadata": {
        "colab": {
          "base_uri": "https://localhost:8080/"
        },
        "id": "57uL_hJS5WjC",
        "outputId": "4b601f48-ec41-4ae8-f6a8-2bee35b41879"
      },
      "outputs": [
        {
          "name": "stdout",
          "output_type": "stream",
          "text": [
            "2\n",
            "4\n",
            "10\n",
            "100\n",
            "2\n"
          ]
        }
      ],
      "source": [
        "X = [1,2,3,4,5, -1, 10, 100, 2]\n",
        "for x in X:\n",
        "  ### do what ever you like here!!!!!!\n",
        "  ### any thing you can do!!!\n",
        "  if x % 2 == 0:\n",
        "    print(x)"
      ]
    },
    {
      "cell_type": "code",
      "execution_count": 86,
      "metadata": {
        "id": "T5Sf0LlQ6ngL"
      },
      "outputs": [],
      "source": [
        "a = \"My name is yildirim akbal, I think therefore I am !!!!\""
      ]
    },
    {
      "cell_type": "code",
      "execution_count": null,
      "metadata": {
        "id": "lZwiuO1Z6sV7"
      },
      "outputs": [],
      "source": [
        "for char in a: ### this guy prints out the characters in the string\n",
        "  print(char)"
      ]
    },
    {
      "cell_type": "code",
      "execution_count": 98,
      "metadata": {
        "colab": {
          "base_uri": "https://localhost:8080/",
          "height": 35
        },
        "id": "2nARt_Up5Ng-",
        "outputId": "d117a240-9ca7-4538-e9b3-2ded0bb8331f"
      },
      "outputs": [
        {
          "data": {
            "application/vnd.google.colaboratory.intrinsic+json": {
              "type": "string"
            },
            "text/plain": [
              "'y'"
            ]
          },
          "execution_count": 98,
          "metadata": {},
          "output_type": "execute_result"
        }
      ],
      "source": [
        "a.__getitem__(1) ### the same as a[1]"
      ]
    },
    {
      "cell_type": "markdown",
      "metadata": {
        "id": "nzs77W8p7sZw"
      },
      "source": [
        "### break statement!!!!!!!!!!!!!!\n",
        "### continue statement !!!!!!!!"
      ]
    },
    {
      "cell_type": "code",
      "execution_count": 105,
      "metadata": {
        "colab": {
          "base_uri": "https://localhost:8080/"
        },
        "id": "6jFTyxpH7w2e",
        "outputId": "41932c52-9787-4e08-f899-d3f79372a8c6"
      },
      "outputs": [
        {
          "name": "stdout",
          "output_type": "stream",
          "text": [
            "0\n",
            "1\n",
            "2\n",
            "3\n",
            "4\n",
            "5\n",
            "6\n",
            "7\n",
            "8\n",
            "9\n",
            "10\n"
          ]
        }
      ],
      "source": [
        "for i in range(100000000000000000000000000000000000000000):\n",
        "  print(i)\n",
        "  if i == 10:\n",
        "    break\n",
        "  else:\n",
        "    continue\n",
        "### if a certain condition is satisfied then leave the loop and do not check the other conditions....\n"
      ]
    },
    {
      "cell_type": "code",
      "execution_count": 111,
      "metadata": {
        "colab": {
          "base_uri": "https://localhost:8080/"
        },
        "id": "GwrzncQQ9ECH",
        "outputId": "a1bb4f03-88d7-4ff9-ab70-1b3a8af9b9da"
      },
      "outputs": [
        {
          "name": "stdout",
          "output_type": "stream",
          "text": [
            "innermost loop is broken\n",
            "innermost loop is broken\n",
            "innermost loop is broken\n"
          ]
        }
      ],
      "source": [
        "L = []\n",
        "for i in range(100):\n",
        "  for j in range(100):\n",
        "    L.append(i*j)\n",
        "    if i*j == 9:\n",
        "      print(\"innermost loop is broken\")\n",
        "      break\n",
        "### In nested for loops, inner most loop is left when break is called once.\n",
        "### However outermost loop continues looping...."
      ]
    },
    {
      "cell_type": "code",
      "execution_count": 143,
      "metadata": {
        "colab": {
          "base_uri": "https://localhost:8080/"
        },
        "id": "RGyW1coJ438-",
        "outputId": "37c72033-9934-4481-e1e1-3aae3aa35126"
      },
      "outputs": [
        {
          "name": "stdout",
          "output_type": "stream",
          "text": [
            "1\n",
            "-1\n",
            "23\n",
            "23\n",
            "12\n",
            "12\n",
            "1\n",
            "-1\n",
            "23\n",
            "23\n",
            "12\n",
            "12\n"
          ]
        }
      ],
      "source": [
        "### Habits you should forget before you learn them\n",
        "a = [1,-1, 23, 23, 12, 12]\n",
        "for i in range(len(a)):\n",
        "  print(a[i])  ### Thou shall not do this!!!!!!  ###instead\n",
        "for i in a:  ### this is better\n",
        "  print(i)"
      ]
    },
    {
      "cell_type": "code",
      "execution_count": 145,
      "metadata": {
        "colab": {
          "base_uri": "https://localhost:8080/"
        },
        "id": "evoxHtf2CJ2l",
        "outputId": "3c259622-e0cc-4864-ff6f-92ec36201213"
      },
      "outputs": [
        {
          "name": "stdout",
          "output_type": "stream",
          "text": [
            "0 1\n",
            "1 -1\n",
            "2 23\n",
            "3 23\n",
            "4 12\n",
            "5 12\n"
          ]
        }
      ],
      "source": [
        "for i in range(len(a)):\n",
        "  print(i,a[i]) \n",
        "### There is a better way of doing this!!!"
      ]
    },
    {
      "cell_type": "code",
      "execution_count": 146,
      "metadata": {
        "colab": {
          "base_uri": "https://localhost:8080/"
        },
        "id": "yNA3BubSCiTJ",
        "outputId": "36a07ac6-101f-4f2b-c4b1-41a692fdb9ac"
      },
      "outputs": [
        {
          "name": "stdout",
          "output_type": "stream",
          "text": [
            "0 1\n",
            "1 -1\n",
            "2 23\n",
            "3 23\n",
            "4 12\n",
            "5 12\n"
          ]
        }
      ],
      "source": [
        "for i, el in enumerate(a):\n",
        "  print(i, el)\n",
        "### There is a better way of doing this!!!"
      ]
    },
    {
      "cell_type": "code",
      "execution_count": 154,
      "metadata": {
        "colab": {
          "base_uri": "https://localhost:8080/"
        },
        "id": "d-2L8SyBCtKr",
        "outputId": "a037d7d0-6455-4fb4-cb1b-e8c1757b0295"
      },
      "outputs": [
        {
          "name": "stdout",
          "output_type": "stream",
          "text": [
            "1 12\n",
            "2 -12\n",
            "3 123\n",
            "4 323\n",
            "-12 3\n",
            "23 10\n"
          ]
        }
      ],
      "source": [
        "#### Zip function\n",
        "a = [1,2,3,4, -12,23]\n",
        "b = [12, -12, 123, 323 ,3, 10, 10, -1, 12312, 123123] \n",
        "for a_,b_ in zip(a,b):   ###in the case that the lengths are not the same short one is consider.\n",
        "  print(a_, b_)"
      ]
    },
    {
      "cell_type": "code",
      "execution_count": 159,
      "metadata": {
        "id": "-hOM8oWBC7cT"
      },
      "outputs": [],
      "source": [
        " #### the generators!\n",
        " def f(n,m):\n",
        "   for i in range(1,n+1):\n",
        "     for j in range(1,m+1):\n",
        "       yield i*j \n",
        "### This gives an generator object"
      ]
    },
    {
      "cell_type": "code",
      "execution_count": 167,
      "metadata": {
        "id": "NaM2Cv0uEhOO"
      },
      "outputs": [],
      "source": [
        "L = f(2,3)"
      ]
    },
    {
      "cell_type": "code",
      "execution_count": 168,
      "metadata": {
        "colab": {
          "base_uri": "https://localhost:8080/"
        },
        "id": "TL1KO62CD5Rr",
        "outputId": "cf3474af-0b3c-4859-e6f3-9592b49c6ecd"
      },
      "outputs": [
        {
          "name": "stdout",
          "output_type": "stream",
          "text": [
            "1\n",
            "2\n",
            "3\n",
            "2\n",
            "4\n",
            "6\n"
          ]
        }
      ],
      "source": [
        "for i in L:\n",
        "  print(i)"
      ]
    },
    {
      "cell_type": "markdown",
      "metadata": {
        "id": "7fJaSL4DFUmC"
      },
      "source": [
        "### An important concept with lists"
      ]
    },
    {
      "cell_type": "code",
      "execution_count": 171,
      "metadata": {
        "id": "Brj4GxVZFf4T"
      },
      "outputs": [],
      "source": [
        "def f(n:int) -> list:\n",
        "  L = []\n",
        "  for i in range(1, n+1):\n",
        "    L.append(i**2)\n",
        "  return L"
      ]
    },
    {
      "cell_type": "code",
      "execution_count": 172,
      "metadata": {
        "colab": {
          "base_uri": "https://localhost:8080/"
        },
        "id": "fo_On1SbFnjp",
        "outputId": "72177a03-0cfc-43b1-e1ce-79c3b1804987"
      },
      "outputs": [
        {
          "data": {
            "text/plain": [
              "[1, 4, 9, 16, 25, 36, 49, 64, 81, 100]"
            ]
          },
          "execution_count": 172,
          "metadata": {},
          "output_type": "execute_result"
        }
      ],
      "source": [
        "f(10)"
      ]
    },
    {
      "cell_type": "code",
      "execution_count": 175,
      "metadata": {
        "colab": {
          "base_uri": "https://localhost:8080/"
        },
        "id": "M9UOEBRhFOvr",
        "outputId": "8eb4df29-4955-4427-ff72-93cd46cf3020"
      },
      "outputs": [
        {
          "data": {
            "text/plain": [
              "[1, 4, 9, 16, 25, 36, 49, 64, 81, 100]"
            ]
          },
          "execution_count": 175,
          "metadata": {},
          "output_type": "execute_result"
        }
      ],
      "source": [
        "[i**2 for i in range(1, 11)]"
      ]
    },
    {
      "cell_type": "code",
      "execution_count": 176,
      "metadata": {
        "id": "bykuCbkZGN3N"
      },
      "outputs": [],
      "source": [
        "f = lambda n : [i**2 for i in range(1,n+1)]"
      ]
    },
    {
      "cell_type": "code",
      "execution_count": 184,
      "metadata": {
        "id": "IyzQsTAcGS5U"
      },
      "outputs": [],
      "source": [
        "a = \"DİSK-AR'ın Emekli İkramiyesi Nasıl Eridi? başlıklı raporunda resmi enflasyonun son 5 yılda yüzde 269, resmi gıda enflasyonun ise yüzde 362 artarken emekli bayram ikramiyesi sadece yüzde 10 arttığı belirtildi. \""
      ]
    },
    {
      "cell_type": "code",
      "execution_count": 179,
      "metadata": {
        "id": "J2t1z2l2HGb3"
      },
      "outputs": [],
      "source": [
        "#### First question\n",
        "### How do you find unique characters in this string?\n",
        "### Motto: Keep it stupidly simply\n",
        "def return_unique_charc(a:str)->set:\n",
        "  A = set()\n",
        "  for char in a:\n",
        "    A.add(char)\n",
        "  return A"
      ]
    },
    {
      "cell_type": "code",
      "execution_count": 182,
      "metadata": {
        "id": "D8HOVQ5rH-UQ"
      },
      "outputs": [],
      "source": [
        "uniq_char = return_unique_charc(a);"
      ]
    },
    {
      "cell_type": "code",
      "execution_count": 189,
      "metadata": {
        "id": "tA7wNCv_IToj"
      },
      "outputs": [],
      "source": [
        "#### Second question: I would like to find out frequency of characters:\n",
        "def return_frqs(a:str)->dict:\n",
        "  uniq_char = return_unique_charc(a)\n",
        "  dict_ = {char:0 for char in uniq_char}\n",
        "  for char in a:\n",
        "    dict_[char] += 1\n",
        "  return dict_"
      ]
    },
    {
      "cell_type": "code",
      "execution_count": 198,
      "metadata": {
        "id": "CEIvNSsvKaQY"
      },
      "outputs": [],
      "source": [
        "L = dict()"
      ]
    },
    {
      "cell_type": "code",
      "execution_count": 196,
      "metadata": {
        "id": "qAw3HRqZJ5P4"
      },
      "outputs": [],
      "source": [
        "#### Second question: I would like to find out frequency of characters:\n",
        "def return_frqs(a:str)->dict:\n",
        "  dict_ = {}\n",
        "  for char in a:\n",
        "    if char in dict_.keys():\n",
        "      dict_[char] += 1\n",
        "    else:\n",
        "      dict_[char] = 1\n",
        "  return dict_"
      ]
    },
    {
      "cell_type": "code",
      "execution_count": 203,
      "metadata": {
        "id": "1uFNO2oOKHOl"
      },
      "outputs": [],
      "source": [
        "return_frqs(a);"
      ]
    },
    {
      "cell_type": "code",
      "execution_count": 208,
      "metadata": {
        "id": "V0c4XWx4KrmL"
      },
      "outputs": [],
      "source": [
        "import random\n",
        "L = [random.randint(-100, 100) for i in range(1000)]"
      ]
    },
    {
      "cell_type": "code",
      "execution_count": 213,
      "metadata": {
        "id": "idvmCP66K55i"
      },
      "outputs": [],
      "source": [
        "####First question \n",
        "# [-2, 1, 3, -1] -> [-2, -1, 1, 3]  sorted this array \n",
        "L; ### this guy is an array of integers"
      ]
    },
    {
      "cell_type": "code",
      "execution_count": 232,
      "metadata": {
        "id": "1g0LewSVLos1"
      },
      "outputs": [],
      "source": [
        "####Question how do we check that this array is sorted?\n",
        "def check_ifsorted(L:list)->bool:\n",
        "  N = len(L)\n",
        "  sorted = True\n",
        "  for i in range(N-1):\n",
        "    if L[i] <= L[i+1]:\n",
        "      continue\n",
        "    else:\n",
        "      sorted = False\n",
        "      break\n",
        "  return sorted"
      ]
    },
    {
      "cell_type": "code",
      "execution_count": 241,
      "metadata": {
        "id": "zHgs4AY5Lllt"
      },
      "outputs": [],
      "source": [
        "L.sort()  #### sorts the list"
      ]
    },
    {
      "cell_type": "code",
      "execution_count": 244,
      "metadata": {
        "id": "zX6fYicsK0at"
      },
      "outputs": [],
      "source": [
        "L.reverse()  ### changes the order (in general)"
      ]
    },
    {
      "cell_type": "code",
      "execution_count": 249,
      "metadata": {
        "id": "RgtOt4zpRZLD"
      },
      "outputs": [],
      "source": [
        "list_ = [-1, 2, 3, 4]"
      ]
    },
    {
      "cell_type": "code",
      "execution_count": 255,
      "metadata": {
        "colab": {
          "base_uri": "https://localhost:8080/"
        },
        "id": "33IdTczmRuON",
        "outputId": "8cc53402-1879-466a-8510-ef7442df6185"
      },
      "outputs": [
        {
          "data": {
            "text/plain": [
              "[4, 3, 2, -1]"
            ]
          },
          "execution_count": 255,
          "metadata": {},
          "output_type": "execute_result"
        }
      ],
      "source": [
        "list_[::-1]  ### change the order"
      ]
    },
    {
      "cell_type": "code",
      "execution_count": 258,
      "metadata": {
        "colab": {
          "base_uri": "https://localhost:8080/"
        },
        "id": "CZ5zIgl8SQAc",
        "outputId": "a253ede3-5b19-486a-d619-494bea7f31b7"
      },
      "outputs": [
        {
          "data": {
            "text/plain": [
              "inf"
            ]
          },
          "execution_count": 258,
          "metadata": {},
          "output_type": "execute_result"
        }
      ],
      "source": [
        "from math import inf\n",
        "###inf is the largest number, and -inf is the smallest number"
      ]
    },
    {
      "cell_type": "code",
      "execution_count": 295,
      "metadata": {
        "id": "IfPhzxFlWl8i"
      },
      "outputs": [],
      "source": [
        "def f(x):\n",
        "  return x**2"
      ]
    },
    {
      "cell_type": "code",
      "execution_count": null,
      "metadata": {
        "id": "iXy4b1zqSf5X"
      },
      "outputs": [],
      "source": [
        "dir(math)"
      ]
    },
    {
      "cell_type": "code",
      "execution_count": 272,
      "metadata": {
        "id": "1zUW-W8GR5c0"
      },
      "outputs": [],
      "source": [
        "#### How do we find the minimum element and its argument of an array of floats? (there maybe morethan one such elements)\n",
        "### pick only one\n",
        "def min_pic(L:list) -> tuple:\n",
        "  x = inf\n",
        "  arg = 0\n",
        "  for arg_, val in enumerate(L):\n",
        "    if x >= val:\n",
        "      x = val\n",
        "      arg = arg_\n",
        "  return x, arg"
      ]
    },
    {
      "cell_type": "code",
      "execution_count": 273,
      "metadata": {
        "colab": {
          "base_uri": "https://localhost:8080/"
        },
        "id": "qp0mF528T43t",
        "outputId": "fac81cef-8270-49b8-cfc1-d9e75c782c02"
      },
      "outputs": [
        {
          "data": {
            "text/plain": [
              "(-40, 5)"
            ]
          },
          "execution_count": 273,
          "metadata": {},
          "output_type": "execute_result"
        }
      ],
      "source": [
        "min_pic([-40, -10, 1, 2, 4, -40])"
      ]
    },
    {
      "cell_type": "code",
      "execution_count": 274,
      "metadata": {
        "colab": {
          "base_uri": "https://localhost:8080/"
        },
        "id": "N_0NfDAPUdcp",
        "outputId": "35e5e8dc-3a4b-4859-9cf2-16b10a2a90db"
      },
      "outputs": [
        {
          "data": {
            "text/plain": [
              "-40"
            ]
          },
          "execution_count": 274,
          "metadata": {},
          "output_type": "execute_result"
        }
      ],
      "source": [
        "min([-40, -10, 1, 2, 4, -40])"
      ]
    },
    {
      "cell_type": "code",
      "execution_count": 275,
      "metadata": {
        "colab": {
          "base_uri": "https://localhost:8080/"
        },
        "id": "bUjV-isYUfVQ",
        "outputId": "b5296426-1848-4821-bfb5-9c8ced9af5f2"
      },
      "outputs": [
        {
          "data": {
            "text/plain": [
              "0"
            ]
          },
          "execution_count": 275,
          "metadata": {},
          "output_type": "execute_result"
        }
      ],
      "source": [
        "[-40, -10, 1, 2, 4, -40].index(-40)"
      ]
    },
    {
      "cell_type": "code",
      "execution_count": 276,
      "metadata": {
        "id": "3g_OkG12UjQc"
      },
      "outputs": [],
      "source": [
        "#5! = 5*4*3*2*1\n",
        "def factorial(n:int)->int:\n",
        "  i = 1\n",
        "  for j in range(1,n+1):\n",
        "    i *= j\n",
        "  return i"
      ]
    },
    {
      "cell_type": "code",
      "execution_count": 287,
      "metadata": {
        "id": "dk6jdf3CVHHC"
      },
      "outputs": [],
      "source": [
        "def factorial(n:int):  #### this is called recursion. WE do not use it a lot as it requiers a bit care, \n",
        "  if n == 1 or n == 0:\n",
        "    return 1\n",
        "  return n*factorial(n-1)"
      ]
    },
    {
      "cell_type": "code",
      "execution_count": 288,
      "metadata": {
        "colab": {
          "base_uri": "https://localhost:8080/"
        },
        "id": "68OQboT5VRcV",
        "outputId": "adc9fe47-734e-46f2-ce3d-88613d592e4e"
      },
      "outputs": [
        {
          "data": {
            "text/plain": [
              "1"
            ]
          },
          "execution_count": 288,
          "metadata": {},
          "output_type": "execute_result"
        }
      ],
      "source": [
        "factorial(0)"
      ]
    },
    {
      "cell_type": "code",
      "execution_count": 289,
      "metadata": {
        "colab": {
          "base_uri": "https://localhost:8080/"
        },
        "id": "UurVwYrfU4at",
        "outputId": "16a0a7bf-754a-47be-96a7-30fc4ddc0dce"
      },
      "outputs": [
        {
          "data": {
            "text/plain": [
              "3628800"
            ]
          },
          "execution_count": 289,
          "metadata": {},
          "output_type": "execute_result"
        }
      ],
      "source": [
        "factorial(10)"
      ]
    },
    {
      "cell_type": "code",
      "execution_count": 2,
      "metadata": {},
      "outputs": [],
      "source": [
        "from functools import cache, lru_cache"
      ]
    },
    {
      "cell_type": "code",
      "execution_count": 1,
      "metadata": {},
      "outputs": [],
      "source": [
        "def fibonacci(n:int)->int:\n",
        "    if n == 0 or n == 1:\n",
        "        return 1\n",
        "    return fibonacci(n-1)+fibonacci(n-2)"
      ]
    },
    {
      "cell_type": "code",
      "execution_count": 3,
      "metadata": {},
      "outputs": [
        {
          "name": "stdout",
          "output_type": "stream",
          "text": [
            "7.09 µs ± 127 ns per loop (mean ± std. dev. of 7 runs, 100,000 loops each)\n"
          ]
        }
      ],
      "source": [
        "%timeit fibonacci(10)"
      ]
    },
    {
      "cell_type": "code",
      "execution_count": 4,
      "metadata": {},
      "outputs": [],
      "source": [
        "@lru_cache\n",
        "def fibonacci(n:int)->int:\n",
        "    if n == 0 or n == 1:\n",
        "        return 1\n",
        "    return fibonacci(n-1)+fibonacci(n-2)"
      ]
    },
    {
      "cell_type": "code",
      "execution_count": 5,
      "metadata": {},
      "outputs": [
        {
          "name": "stdout",
          "output_type": "stream",
          "text": [
            "44.7 ns ± 0.63 ns per loop (mean ± std. dev. of 7 runs, 10,000,000 loops each)\n"
          ]
        }
      ],
      "source": [
        "%timeit fibonacci(10) ## Damn fast!!!"
      ]
    }
  ],
  "metadata": {
    "colab": {
      "provenance": []
    },
    "kernelspec": {
      "display_name": "Python 3",
      "name": "python3"
    },
    "language_info": {
      "codemirror_mode": {
        "name": "ipython",
        "version": 3
      },
      "file_extension": ".py",
      "mimetype": "text/x-python",
      "name": "python",
      "nbconvert_exporter": "python",
      "pygments_lexer": "ipython3",
      "version": "3.11.5"
    }
  },
  "nbformat": 4,
  "nbformat_minor": 0
}
