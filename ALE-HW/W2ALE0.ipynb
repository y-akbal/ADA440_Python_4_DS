{
 "cells": [
  {
   "cell_type": "markdown",
   "id": "66829668",
   "metadata": {},
   "source": [
    "[![Open in Colab](https://colab.research.google.com/assets/colab-badge.svg)](https://colab.research.google.com/github/y-akbal/ADA440_Python_4_DS/blob/main/ALE-HW/W2ALE0.ipynb)\n",
    "# This assignment is prepared to see your progress#\n",
    "## Please answer the questions as much as you can, if you like to skip a question please leave the related cell blank. ##\n",
    "\n",
    "## As the sole purpose of this little exam is to see your level and maturity in Python, please do the questions on your own. ##\n",
    "\n",
    "# You can run a cell by hitting Enter + CTRL #\n",
    "\n",
    "\n",
    "# <font color='red'> Simple Objects in Python: </font> #\n"
   ]
  },
  {
   "cell_type": "code",
   "execution_count": null,
   "id": "9fedaf11",
   "metadata": {},
   "outputs": [],
   "source": [
    "\"\"\"\n",
    "0) What is float, int? Initialize a float and an int value (pick any numbers that you like).\n",
    "\"\"\""
   ]
  },
  {
   "cell_type": "code",
   "execution_count": null,
   "id": "b3445c0d",
   "metadata": {},
   "outputs": [],
   "source": [
    "### Write your code here!"
   ]
  },
  {
   "cell_type": "code",
   "execution_count": null,
   "id": "f28232ef",
   "metadata": {},
   "outputs": [],
   "source": [
    "\"\"\"\n",
    "0.5) What is a boolean variable? Initialize a boolean variable that has a true value.\n",
    "\"\"\""
   ]
  },
  {
   "cell_type": "code",
   "execution_count": null,
   "id": "61c85b1a",
   "metadata": {},
   "outputs": [],
   "source": [
    "### Write your code here!"
   ]
  },
  {
   "cell_type": "code",
   "execution_count": null,
   "id": "c60b9131",
   "metadata": {},
   "outputs": [],
   "source": [
    "\"\"\"\n",
    "1) Write down a snippet that concatenates the following strings a and b.\n",
    "\"\"\"\n",
    "a = \"hoppa\"\n",
    "b = \"zoppa\""
   ]
  },
  {
   "cell_type": "code",
   "execution_count": null,
   "id": "296d779b",
   "metadata": {},
   "outputs": [],
   "source": [
    "### Write your code here!"
   ]
  },
  {
   "cell_type": "code",
   "execution_count": null,
   "id": "135d6b93",
   "metadata": {},
   "outputs": [],
   "source": [
    "\"\"\"\n",
    "2) Assume that you are given the following string a. Write down a general snippet that splits a into three strings b,e, and c such that\n",
    " b = \"hoppa\"\n",
    " e = \" \"\n",
    " c = \"zoppa\"\n",
    "and a = b + e + c\n",
    "\"\"\"\n",
    "a = \"hoppa zoppa\""
   ]
  },
  {
   "cell_type": "code",
   "execution_count": null,
   "id": "e01aa55f",
   "metadata": {},
   "outputs": [],
   "source": [
    "### Write your code here!"
   ]
  },
  {
   "cell_type": "code",
   "execution_count": null,
   "id": "1bd087c8",
   "metadata": {},
   "outputs": [],
   "source": [
    "\"\"\"\n",
    "3) Given the following list,\n",
    "A = [1,2,3,4,-1]\n",
    "a) How do you reach the first element of A?\n",
    "b) How do you replace the last element of A by 5?\n",
    "c) How do you append 0 to A as the last element?\n",
    "d) How do you append 0 to A as the first element?\n",
    "e) How do you insert 0 between 2 and 3?\n",
    "\"\"\""
   ]
  },
  {
   "cell_type": "code",
   "execution_count": 34,
   "id": "8bf269f7",
   "metadata": {},
   "outputs": [],
   "source": [
    "### Write your code here!\n",
    "A = [1,2,3,4,-1]\n"
   ]
  },
  {
   "cell_type": "code",
   "execution_count": null,
   "id": "9e1b6021",
   "metadata": {},
   "outputs": [],
   "source": [
    "\"\"\"\n",
    "4) Given the tuple,\n",
    "a = (1,2)\n",
    "How do you replace the last element of a by -1?\n",
    "\"\"\""
   ]
  },
  {
   "cell_type": "code",
   "execution_count": 35,
   "id": "9c052d9b",
   "metadata": {},
   "outputs": [],
   "source": [
    "a = (1,2)\n",
    "### Write your code here\n"
   ]
  },
  {
   "cell_type": "code",
   "execution_count": null,
   "id": "d42af7a5",
   "metadata": {},
   "outputs": [],
   "source": [
    "\"\"\"\n",
    "5) Given the tuple,\n",
    "a = (1,2)\n",
    "How do you replace the last element of a by -1?\n",
    "\"\"\""
   ]
  },
  {
   "cell_type": "code",
   "execution_count": null,
   "id": "90c9c0ec",
   "metadata": {},
   "outputs": [],
   "source": [
    "### Write your code here!"
   ]
  },
  {
   "cell_type": "code",
   "execution_count": null,
   "id": "1c17123a",
   "metadata": {},
   "outputs": [],
   "source": [
    "\"\"\"\n",
    "6) What is a dictionary? \n",
    "Form a dictionary with keys \"a\", \"b\" and \"c\" and corresponding values 0, 1 , 2 respectively.  \n",
    "What happens when you want to see the value of a key that does not exist in your dictionary?\n",
    "\"\"\""
   ]
  },
  {
   "cell_type": "code",
   "execution_count": 31,
   "id": "2ccd5884",
   "metadata": {},
   "outputs": [],
   "source": [
    "### Write your code here!"
   ]
  },
  {
   "cell_type": "markdown",
   "id": "c8f24d3a",
   "metadata": {},
   "source": [
    "# <font color='red'> Simple Conditional Statements in Python: </font> #\n"
   ]
  },
  {
   "cell_type": "code",
   "execution_count": null,
   "id": "13eab899",
   "metadata": {},
   "outputs": [],
   "source": [
    "\"\"\"\n",
    "7) Write a simple if statement that that sets b to be 1 if a is even, else 0.\n",
    "\"\"\""
   ]
  },
  {
   "cell_type": "code",
   "execution_count": 32,
   "id": "85f8e6e3",
   "metadata": {},
   "outputs": [],
   "source": [
    "a = 10;\n",
    "b = None;\n",
    "### Write your code here!\n",
    "\n",
    "\n",
    "\n",
    "####\n",
    "print(a, b)"
   ]
  },
  {
   "cell_type": "code",
   "execution_count": null,
   "id": "91ad2da9",
   "metadata": {},
   "outputs": [],
   "source": [
    "\"\"\"\n",
    "8) Write a simple if statement that sets b to False if a is even, else leaves b as is.\n",
    "\"\"\""
   ]
  },
  {
   "cell_type": "code",
   "execution_count": null,
   "id": "9cf9ad66",
   "metadata": {},
   "outputs": [],
   "source": [
    "### Write your code here!\n"
   ]
  },
  {
   "cell_type": "markdown",
   "id": "d9191f6d",
   "metadata": {},
   "source": [
    "# <font color='red'> Loops in Python: </font> #\n"
   ]
  },
  {
   "cell_type": "code",
   "execution_count": null,
   "id": "ceb28d74",
   "metadata": {},
   "outputs": [],
   "source": [
    "\"\"\"\n",
    "9) Write a for loop that adds all even numbers from 0 to 100\n",
    "\"\"\"\n"
   ]
  },
  {
   "cell_type": "code",
   "execution_count": null,
   "id": "53b9324d",
   "metadata": {},
   "outputs": [],
   "source": [
    "### Write your code here!"
   ]
  },
  {
   "cell_type": "code",
   "execution_count": null,
   "id": "ae7bb5fe",
   "metadata": {},
   "outputs": [],
   "source": [
    "\"\"\"\n",
    "10) Write a loop running over the list A below, creating another list consisting of numbers that are less than 5.\n",
    "\"\"\""
   ]
  },
  {
   "cell_type": "code",
   "execution_count": null,
   "id": "971b47a1",
   "metadata": {},
   "outputs": [],
   "source": [
    "A = [1,2,3,4,5,6, -1, -10, -2, -12, 3,-12, -123, 1234]\n",
    "### Write your code here!\n"
   ]
  },
  {
   "cell_type": "code",
   "execution_count": null,
   "id": "7b85903d",
   "metadata": {},
   "outputs": [],
   "source": [
    "\"\"\"\n",
    "11) Write a loop running over the list A above, giving a sublist consisting of elements of A in increasing order.\n",
    "\"\"\""
   ]
  },
  {
   "cell_type": "code",
   "execution_count": null,
   "id": "e3c36e4f",
   "metadata": {},
   "outputs": [],
   "source": [
    "### Write your code here!\n"
   ]
  },
  {
   "cell_type": "markdown",
   "id": "89eb2e44",
   "metadata": {},
   "source": [
    "# <font color='red'> Functions in Python: </font> #\n"
   ]
  },
  {
   "cell_type": "code",
   "execution_count": 33,
   "id": "b86d2455",
   "metadata": {},
   "outputs": [
    {
     "data": {
      "text/plain": [
       "'\\nWrite a function that takes a list of floats and return their sum.\\n'"
      ]
     },
     "execution_count": 33,
     "metadata": {},
     "output_type": "execute_result"
    }
   ],
   "source": [
    "\"\"\"\n",
    "12) Write a function that takes a list of floats and return their sum.\n",
    "\"\"\""
   ]
  },
  {
   "cell_type": "code",
   "execution_count": null,
   "id": "4a0d1edc",
   "metadata": {},
   "outputs": [],
   "source": [
    "### Write your code here!\n",
    "def f(x:list)-> float:\n",
    "    pass"
   ]
  },
  {
   "cell_type": "code",
   "execution_count": null,
   "id": "38c7de69",
   "metadata": {},
   "outputs": [],
   "source": [
    "\"\"\"\n",
    "13) Write a functions that takes a integer and returns all divisors of this integer in a list \n",
    "unless this integer is 0 in which case the functions throws an error.\n",
    "\"\"\""
   ]
  },
  {
   "cell_type": "code",
   "execution_count": 37,
   "id": "e427a8e7",
   "metadata": {},
   "outputs": [],
   "source": [
    "### Write your code here!\n",
    "def f(n:int) -> list:\n",
    "    pass"
   ]
  },
  {
   "cell_type": "code",
   "execution_count": null,
   "id": "d04e6c8a",
   "metadata": {},
   "outputs": [],
   "source": [
    "\"\"\"\n",
    "What is a decorator function? Give an example\n",
    "\"\"\""
   ]
  },
  {
   "cell_type": "code",
   "execution_count": null,
   "id": "b1ea65ef",
   "metadata": {},
   "outputs": [],
   "source": [
    "### Write your code here!"
   ]
  }
 ],
 "metadata": {
  "kernelspec": {
   "display_name": "Python 3 (ipykernel)",
   "language": "python",
   "name": "python3"
  },
  "language_info": {
   "codemirror_mode": {
    "name": "ipython",
    "version": 3
   },
   "file_extension": ".py",
   "mimetype": "text/x-python",
   "name": "python",
   "nbconvert_exporter": "python",
   "pygments_lexer": "ipython3",
   "version": "3.9.13"
  }
 },
 "nbformat": 4,
 "nbformat_minor": 5
}
